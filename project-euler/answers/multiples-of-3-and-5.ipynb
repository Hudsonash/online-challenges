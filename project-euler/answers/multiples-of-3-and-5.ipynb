{
 "cells": [
  {
   "cell_type": "markdown",
   "metadata": {},
   "source": [
    "# Multiples of 3 & 5\n",
    "---\n",
    "Jan 14, 2018 | Hudson Ash\n",
    "\n",
    "### Question\n",
    "If we list all the natural numbers below 10 that are multiples of 3 or 5, we get 3, 5, 6 and 9. The sum of these multiples is 23.\n",
    "\n",
    "Find the sum of all the multiples of 3 or 5 below 1000."
   ]
  },
  {
   "cell_type": "markdown",
   "metadata": {},
   "source": [
    "### Answer\n",
    "Break the question into solving the the sum of 3s, 5s, and 15s.  Since $3 \\times 5$ is $15$, it will be counted twice and must be subtracted. The Gauss sum is seen below and can be manipulated in order to solve the question. \n",
    "$$\\sum_i^n i = \\frac{n(n+1)}{2} \\\\\n",
    "3 + 6 + 9 + ... + n = 3(1+2+3+...+n/3) = \\\\\n",
    "5 + 10 + 15 + ... + m = 5(1+2+3+...+n/5) \\\\\n",
    "$$\n",
    "\n",
    "Thus, we can create a sequence of 3's, 5's and 15's to a given limit.  Sum the values of three and five and subtract fifteen. \n"
   ]
  },
  {
   "cell_type": "code",
   "execution_count": 23,
   "metadata": {
    "collapsed": false
   },
   "outputs": [
    {
     "data": {
      "text/plain": [
       "233168"
      ]
     },
     "execution_count": 23,
     "metadata": {},
     "output_type": "execute_result"
    }
   ],
   "source": [
    "# brute force solution\n",
    "def three_five_sum(max_val):\n",
    "    '''\n",
    "    Sums sequences of three and five, subtracting 15\n",
    "    max_val type: int > 0\n",
    "    rtype: int\n",
    "    '''\n",
    "    if max_val < 3:\n",
    "        return 0\n",
    "    if max_val < 5:\n",
    "        return 3\n",
    "\n",
    "    three = range(3,max_val,3)\n",
    "    five = range(5,max_val,5)\n",
    "    \n",
    "    if max_val < 15:\n",
    "        return sum(three) + sum(five)\n",
    "    \n",
    "    fifteen = range(15,max_val,15)\n",
    "    return sum(three) + sum(five) - sum(fifteen)\n",
    "\n",
    "\n",
    "three_five_sum(1000)"
   ]
  }
 ],
 "metadata": {
  "kernelspec": {
   "display_name": "Python 3",
   "language": "python",
   "name": "python3"
  },
  "language_info": {
   "codemirror_mode": {
    "name": "ipython",
    "version": 3
   },
   "file_extension": ".py",
   "mimetype": "text/x-python",
   "name": "python",
   "nbconvert_exporter": "python",
   "pygments_lexer": "ipython3",
   "version": "3.5.1"
  }
 },
 "nbformat": 4,
 "nbformat_minor": 2
}
